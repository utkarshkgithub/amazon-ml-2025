{
 "cells": [
  {
   "cell_type": "code",
   "execution_count": 2,
   "id": "1bc9f347",
   "metadata": {},
   "outputs": [
    {
     "name": "stdout",
     "output_type": "stream",
     "text": [
      "Loading data...\n",
      "Extracting TF-IDF features...\n",
      "TF-IDF features extracted: (75000, 150)\n",
      "✅ Saved TF-IDF features:\n",
      "   train_tfidf_150.npy: (74758, 150)\n",
      "   test_tfidf_150.npy: (75000, 150)\n",
      "✅ Top TF-IDF terms:\n",
      "['10' '100' '12' '16' '24' 'add' 'added' 'artificial' 'bag' 'bags' 'beans'\n",
      " 'best' 'black' 'black tea' 'blend' 'bottle' 'box' 'br' 'br br' 'bulk']\n"
     ]
    }
   ],
   "source": [
    "# Run this on your local laptop\n",
    "import pandas as pd\n",
    "import numpy as np\n",
    "from sklearn.feature_extraction.text import TfidfVectorizer\n",
    "\n",
    "print(\"Loading data...\")\n",
    "train_df = pd.read_csv('../data/train.csv')\n",
    "test_df = pd.read_csv('../data/test.csv')\n",
    "\n",
    "print(\"Extracting TF-IDF features...\")\n",
    "# TF-IDF on catalog content\n",
    "tfidf = TfidfVectorizer(\n",
    "    max_features=150,\n",
    "    ngram_range=(1, 2),      # Unigrams + bigrams\n",
    "    min_df=5,                # Min document frequency\n",
    "    max_df=0.85,             # Max document frequency\n",
    "    stop_words='english',\n",
    "    sublinear_tf=True        # Use log scaling\n",
    ")\n",
    "\n",
    "# Fit on all text\n",
    "all_text = pd.concat([\n",
    "    train_df['catalog_content'].fillna(''),\n",
    "    test_df['catalog_content'].fillna('')\n",
    "])\n",
    "\n",
    "tfidf.fit(all_text)\n",
    "\n",
    "# Transform\n",
    "train_tfidf = tfidf.transform(train_df['catalog_content'].fillna('')).toarray()\n",
    "test_tfidf = tfidf.transform(test_df['catalog_content'].fillna('')).toarray()\n",
    "\n",
    "print(f\"TF-IDF features extracted: {train_tfidf.shape}\")\n",
    "\n",
    "# Apply outlier mask to train (same as before)\n",
    "y_train_full = np.load('../data/processed/train_target_final.npy')\n",
    "y_log = np.log1p(y_train_full)\n",
    "Q1, Q3 = np.percentile(y_log, [25, 75])\n",
    "IQR = Q3 - Q1\n",
    "mask = (y_log >= Q1 - 1.5*IQR) & (y_log <= Q3 + 1.5*IQR)\n",
    "\n",
    "train_tfidf_clean = train_tfidf[mask]\n",
    "\n",
    "# Save\n",
    "np.save('../data/processed/train_tfidf_150.npy', train_tfidf_clean)\n",
    "np.save('../data/processed/test_tfidf_150.npy', test_tfidf)\n",
    "\n",
    "print(f\"✅ Saved TF-IDF features:\")\n",
    "print(f\"   train_tfidf_150.npy: {train_tfidf_clean.shape}\")\n",
    "print(f\"   test_tfidf_150.npy: {test_tfidf.shape}\")\n",
    "\n",
    "# Save feature names for analysis\n",
    "feature_names = tfidf.get_feature_names_out()\n",
    "np.save('../data/processed/tfidf_feature_names.npy', feature_names)\n",
    "print(f\"✅ Top TF-IDF terms:\")\n",
    "print(feature_names[:20])\n"
   ]
  },
  {
   "cell_type": "code",
   "execution_count": null,
   "id": "45e7a6da",
   "metadata": {},
   "outputs": [],
   "source": []
  },
  {
   "cell_type": "code",
   "execution_count": null,
   "id": "ff95b3d6",
   "metadata": {},
   "outputs": [],
   "source": []
  }
 ],
 "metadata": {
  "kernelspec": {
   "display_name": "venv",
   "language": "python",
   "name": "python3"
  },
  "language_info": {
   "codemirror_mode": {
    "name": "ipython",
    "version": 3
   },
   "file_extension": ".py",
   "mimetype": "text/x-python",
   "name": "python",
   "nbconvert_exporter": "python",
   "pygments_lexer": "ipython3",
   "version": "3.12.3"
  }
 },
 "nbformat": 4,
 "nbformat_minor": 5
}
